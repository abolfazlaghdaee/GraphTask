{
 "cells": [
  {
   "cell_type": "code",
   "execution_count": 95,
   "metadata": {},
   "outputs": [],
   "source": [
    "import numpy as np "
   ]
  },
  {
   "cell_type": "code",
   "execution_count": 96,
   "metadata": {},
   "outputs": [],
   "source": [
    "base = np.array([[0, 1, 2, 3, 3, 2, 4],\n",
    "                 [1, 0, 1, 2, 2, 1, 3],\n",
    "                 [2, 1, 0, 1, 2, 2, 3],\n",
    "                 [3, 2, 1, 0, 1, 2, 2],\n",
    "                 [3, 2, 2, 1, 0, 1, 1],\n",
    "                 [2, 1, 2, 2, 1, 0, 2],\n",
    "                 [4, 3, 3, 2, 1, 2, 0]])"
   ]
  },
  {
   "cell_type": "code",
   "execution_count": 97,
   "metadata": {},
   "outputs": [],
   "source": [
    "complement = np.array([[0, 1, 2, 2, 3],\n",
    "                        [1, 0, 1, 2, 2],\n",
    "                        [2, 1, 0, 1, 1],\n",
    "                        [2, 2, 1, 0, 2],\n",
    "                        [3, 2, 1, 2 ,0]])"
   ]
  },
  {
   "cell_type": "code",
   "execution_count": 98,
   "metadata": {},
   "outputs": [
    {
     "data": {
      "text/plain": [
       "array([[0, 1, 2, 3, 3, 2, 4],\n",
       "       [1, 0, 1, 2, 2, 1, 3],\n",
       "       [2, 1, 0, 1, 2, 2, 3],\n",
       "       [3, 2, 1, 0, 1, 2, 2],\n",
       "       [3, 2, 2, 1, 0, 1, 1],\n",
       "       [2, 1, 2, 2, 1, 0, 2],\n",
       "       [4, 3, 3, 2, 1, 2, 0]])"
      ]
     },
     "execution_count": 98,
     "metadata": {},
     "output_type": "execute_result"
    }
   ],
   "source": [
    "base"
   ]
  },
  {
   "cell_type": "code",
   "execution_count": null,
   "metadata": {},
   "outputs": [],
   "source": []
  },
  {
   "cell_type": "code",
   "execution_count": 99,
   "metadata": {},
   "outputs": [
    {
     "data": {
      "text/plain": [
       "12"
      ]
     },
     "execution_count": 99,
     "metadata": {},
     "output_type": "execute_result"
    }
   ],
   "source": [
    "p = 2\n",
    "\n",
    "n = p * 5  +2 \n",
    "n"
   ]
  },
  {
   "cell_type": "code",
   "execution_count": 100,
   "metadata": {},
   "outputs": [
    {
     "data": {
      "text/plain": [
       "1"
      ]
     },
     "execution_count": 100,
     "metadata": {},
     "output_type": "execute_result"
    }
   ],
   "source": [
    "i = int((n-7) / 5)\n",
    "i"
   ]
  },
  {
   "cell_type": "code",
   "execution_count": 101,
   "metadata": {},
   "outputs": [],
   "source": [
    "new = base "
   ]
  },
  {
   "cell_type": "code",
   "execution_count": 102,
   "metadata": {},
   "outputs": [],
   "source": [
    "new = np.column_stack((new, base[:,6] +1))\n",
    "new = np.column_stack((new, base[:,6] +2))\n",
    "new = np.column_stack((new, base[:,6] +2))\n",
    "new = np.column_stack((new, base[:,6] +1))\n",
    "new = np.column_stack((new, base[:,6] +3))\n",
    "\n",
    "base = np.column_stack((base, np.array([0, 0, 0, 0, 0, 0, 0])))\n",
    "base = np.column_stack((base, np.array([0, 0, 0, 0, 0, 0, 0])))\n",
    "base = np.column_stack((base, np.array([0, 0, 0, 0, 0, 0, 0])))\n",
    "base = np.column_stack((base, np.array([0, 0, 0, 0, 0, 0, 0])))\n",
    "base = np.column_stack((base, np.array([0, 0, 0, 0, 0, 0, 0])))\n"
   ]
  },
  {
   "cell_type": "code",
   "execution_count": 103,
   "metadata": {},
   "outputs": [
    {
     "data": {
      "text/plain": [
       "array([[0, 1, 2, 3, 3, 2, 4, 5, 6, 6, 5, 7],\n",
       "       [1, 0, 1, 2, 2, 1, 3, 4, 5, 5, 4, 6],\n",
       "       [2, 1, 0, 1, 2, 2, 3, 4, 5, 5, 4, 6],\n",
       "       [3, 2, 1, 0, 1, 2, 2, 3, 4, 4, 3, 5],\n",
       "       [3, 2, 2, 1, 0, 1, 1, 2, 3, 3, 2, 4],\n",
       "       [2, 1, 2, 2, 1, 0, 2, 3, 4, 4, 3, 5],\n",
       "       [4, 3, 3, 2, 1, 2, 0, 1, 2, 2, 1, 3]])"
      ]
     },
     "execution_count": 103,
     "metadata": {},
     "output_type": "execute_result"
    }
   ],
   "source": [
    "new"
   ]
  },
  {
   "cell_type": "code",
   "execution_count": 104,
   "metadata": {},
   "outputs": [],
   "source": [
    "new = np.vstack((new, new[6,:] +1))\n",
    "new = np.vstack((new, new[6,:] +2))\n",
    "new = np.vstack((new, new[6,:] +2))\n",
    "new = np.vstack((new, new[6,:] +1))\n",
    "new = np.vstack((new, new[6,:] +3))"
   ]
  },
  {
   "cell_type": "code",
   "execution_count": 105,
   "metadata": {},
   "outputs": [
    {
     "data": {
      "text/plain": [
       "array([[0, 1, 2, 3, 3, 2, 4, 5, 6, 6, 5, 7],\n",
       "       [1, 0, 1, 2, 2, 1, 3, 4, 5, 5, 4, 6],\n",
       "       [2, 1, 0, 1, 2, 2, 3, 4, 5, 5, 4, 6],\n",
       "       [3, 2, 1, 0, 1, 2, 2, 3, 4, 4, 3, 5],\n",
       "       [3, 2, 2, 1, 0, 1, 1, 2, 3, 3, 2, 4],\n",
       "       [2, 1, 2, 2, 1, 0, 2, 3, 4, 4, 3, 5],\n",
       "       [4, 3, 3, 2, 1, 2, 0, 1, 2, 2, 1, 3],\n",
       "       [5, 4, 4, 3, 2, 3, 1, 2, 3, 3, 2, 4],\n",
       "       [6, 5, 5, 4, 3, 4, 2, 3, 4, 4, 3, 5],\n",
       "       [6, 5, 5, 4, 3, 4, 2, 3, 4, 4, 3, 5],\n",
       "       [5, 4, 4, 3, 2, 3, 1, 2, 3, 3, 2, 4],\n",
       "       [7, 6, 6, 5, 4, 5, 3, 4, 5, 5, 4, 6]])"
      ]
     },
     "execution_count": 105,
     "metadata": {},
     "output_type": "execute_result"
    }
   ],
   "source": [
    "new\n"
   ]
  },
  {
   "cell_type": "code",
   "execution_count": 106,
   "metadata": {},
   "outputs": [],
   "source": [
    "sh = new.shape[0]\n",
    "sh -= 1"
   ]
  },
  {
   "cell_type": "code",
   "execution_count": 107,
   "metadata": {},
   "outputs": [],
   "source": [
    "new[sh -4: , sh - 4:] =0"
   ]
  },
  {
   "cell_type": "code",
   "execution_count": 108,
   "metadata": {},
   "outputs": [
    {
     "data": {
      "text/plain": [
       "array([[0, 1, 2, 3, 3, 2, 4, 5, 6, 6, 5, 7],\n",
       "       [1, 0, 1, 2, 2, 1, 3, 4, 5, 5, 4, 6],\n",
       "       [2, 1, 0, 1, 2, 2, 3, 4, 5, 5, 4, 6],\n",
       "       [3, 2, 1, 0, 1, 2, 2, 3, 4, 4, 3, 5],\n",
       "       [3, 2, 2, 1, 0, 1, 1, 2, 3, 3, 2, 4],\n",
       "       [2, 1, 2, 2, 1, 0, 2, 3, 4, 4, 3, 5],\n",
       "       [4, 3, 3, 2, 1, 2, 0, 1, 2, 2, 1, 3],\n",
       "       [5, 4, 4, 3, 2, 3, 1, 0, 0, 0, 0, 0],\n",
       "       [6, 5, 5, 4, 3, 4, 2, 0, 0, 0, 0, 0],\n",
       "       [6, 5, 5, 4, 3, 4, 2, 0, 0, 0, 0, 0],\n",
       "       [5, 4, 4, 3, 2, 3, 1, 0, 0, 0, 0, 0],\n",
       "       [7, 6, 6, 5, 4, 5, 3, 0, 0, 0, 0, 0]])"
      ]
     },
     "execution_count": 108,
     "metadata": {},
     "output_type": "execute_result"
    }
   ],
   "source": [
    "new"
   ]
  },
  {
   "cell_type": "code",
   "execution_count": 109,
   "metadata": {},
   "outputs": [
    {
     "data": {
      "text/plain": [
       "array([[0, 1, 2, 2, 3],\n",
       "       [1, 0, 1, 2, 2],\n",
       "       [2, 1, 0, 1, 1],\n",
       "       [2, 2, 1, 0, 2],\n",
       "       [3, 2, 1, 2, 0]])"
      ]
     },
     "execution_count": 109,
     "metadata": {},
     "output_type": "execute_result"
    }
   ],
   "source": [
    "complement"
   ]
  },
  {
   "cell_type": "code",
   "execution_count": 110,
   "metadata": {},
   "outputs": [
    {
     "data": {
      "text/plain": [
       "array([[0, 0, 0, 0, 0],\n",
       "       [0, 1, 2, 2, 3],\n",
       "       [1, 0, 1, 2, 2],\n",
       "       [2, 1, 0, 1, 1],\n",
       "       [2, 2, 1, 0, 2],\n",
       "       [3, 2, 1, 2, 0]])"
      ]
     },
     "execution_count": 110,
     "metadata": {},
     "output_type": "execute_result"
    }
   ],
   "source": [
    "np.insert(complement, 0, np.array([0,0,0,0,0]), axis=0)\n"
   ]
  },
  {
   "cell_type": "code",
   "execution_count": 111,
   "metadata": {},
   "outputs": [
    {
     "data": {
      "text/plain": [
       "array([[0, 0, 0, 0, 0],\n",
       "       [0, 1, 2, 2, 3],\n",
       "       [1, 0, 1, 2, 2],\n",
       "       [2, 1, 0, 1, 1],\n",
       "       [2, 2, 1, 0, 2],\n",
       "       [3, 2, 1, 2, 0]])"
      ]
     },
     "execution_count": 111,
     "metadata": {},
     "output_type": "execute_result"
    }
   ],
   "source": [
    "c =np.insert(complement, 0, np.array([0,0,0,0,0]), axis=0)\n",
    "c"
   ]
  },
  {
   "cell_type": "code",
   "execution_count": 112,
   "metadata": {},
   "outputs": [],
   "source": [
    "for i in range(100):\n",
    "        \n",
    "    if complement.shape[0] ==12 :\n",
    "        break\n",
    "    complement= np.insert(complement, 0, np.array([0,0,0,0,0]), axis=0)\n",
    "    \n",
    "\n",
    "\n"
   ]
  },
  {
   "cell_type": "code",
   "execution_count": 113,
   "metadata": {},
   "outputs": [
    {
     "data": {
      "text/plain": [
       "array([[0, 0, 0, 0, 0],\n",
       "       [0, 0, 0, 0, 0],\n",
       "       [0, 0, 0, 0, 0],\n",
       "       [0, 0, 0, 0, 0],\n",
       "       [0, 0, 0, 0, 0],\n",
       "       [0, 0, 0, 0, 0],\n",
       "       [0, 0, 0, 0, 0],\n",
       "       [0, 1, 2, 2, 3],\n",
       "       [1, 0, 1, 2, 2],\n",
       "       [2, 1, 0, 1, 1],\n",
       "       [2, 2, 1, 0, 2],\n",
       "       [3, 2, 1, 2, 0]])"
      ]
     },
     "execution_count": 113,
     "metadata": {},
     "output_type": "execute_result"
    }
   ],
   "source": [
    "complement\n"
   ]
  },
  {
   "cell_type": "code",
   "execution_count": 114,
   "metadata": {},
   "outputs": [],
   "source": [
    "for i in range(100):\n",
    "        \n",
    "    if complement.shape[1] ==12 :\n",
    "        break\n",
    "    complement= np.insert(complement, 0, np.array([0,0,0,0,0,0,0,0,0,0,0,0]), axis=1)\n",
    "    \n",
    "\n"
   ]
  },
  {
   "cell_type": "code",
   "execution_count": 122,
   "metadata": {},
   "outputs": [
    {
     "data": {
      "text/plain": [
       "array([[0, 0, 0, 0, 0, 0, 0, 0, 0, 0, 0, 0],\n",
       "       [0, 0, 0, 0, 0, 0, 0, 0, 0, 0, 0, 0],\n",
       "       [0, 0, 0, 0, 0, 0, 0, 0, 0, 0, 0, 0],\n",
       "       [0, 0, 0, 0, 0, 0, 0, 0, 0, 0, 0, 0],\n",
       "       [0, 0, 0, 0, 0, 0, 0, 0, 0, 0, 0, 0],\n",
       "       [0, 0, 0, 0, 0, 0, 0, 0, 0, 0, 0, 0],\n",
       "       [0, 0, 0, 0, 0, 0, 0, 0, 0, 0, 0, 0],\n",
       "       [0, 0, 0, 0, 0, 0, 0, 0, 1, 2, 2, 3],\n",
       "       [0, 0, 0, 0, 0, 0, 0, 1, 0, 1, 2, 2],\n",
       "       [0, 0, 0, 0, 0, 0, 0, 2, 1, 0, 1, 1],\n",
       "       [0, 0, 0, 0, 0, 0, 0, 2, 2, 1, 0, 2],\n",
       "       [0, 0, 0, 0, 0, 0, 0, 3, 2, 1, 2, 0]])"
      ]
     },
     "execution_count": 122,
     "metadata": {},
     "output_type": "execute_result"
    }
   ],
   "source": [
    "complement"
   ]
  },
  {
   "cell_type": "code",
   "execution_count": 115,
   "metadata": {},
   "outputs": [],
   "source": [
    "a = complement +new"
   ]
  },
  {
   "cell_type": "code",
   "execution_count": 121,
   "metadata": {},
   "outputs": [
    {
     "data": {
      "text/plain": [
       "196.0"
      ]
     },
     "execution_count": 121,
     "metadata": {},
     "output_type": "execute_result"
    }
   ],
   "source": [
    "a.sum() /2"
   ]
  },
  {
   "cell_type": "code",
   "execution_count": 117,
   "metadata": {},
   "outputs": [
    {
     "data": {
      "text/plain": [
       "array([[0, 1, 2, 3, 3, 2, 4, 5, 6, 6, 5, 7],\n",
       "       [1, 0, 1, 2, 2, 1, 3, 4, 5, 5, 4, 6],\n",
       "       [2, 1, 0, 1, 2, 2, 3, 4, 5, 5, 4, 6],\n",
       "       [3, 2, 1, 0, 1, 2, 2, 3, 4, 4, 3, 5],\n",
       "       [3, 2, 2, 1, 0, 1, 1, 2, 3, 3, 2, 4],\n",
       "       [2, 1, 2, 2, 1, 0, 2, 3, 4, 4, 3, 5],\n",
       "       [4, 3, 3, 2, 1, 2, 0, 1, 2, 2, 1, 3],\n",
       "       [5, 4, 4, 3, 2, 3, 1, 0, 1, 2, 2, 3],\n",
       "       [6, 5, 5, 4, 3, 4, 2, 1, 0, 1, 2, 2],\n",
       "       [6, 5, 5, 4, 3, 4, 2, 2, 1, 0, 1, 1],\n",
       "       [5, 4, 4, 3, 2, 3, 1, 2, 2, 1, 0, 2],\n",
       "       [7, 6, 6, 5, 4, 5, 3, 3, 2, 1, 2, 0]])"
      ]
     },
     "execution_count": 117,
     "metadata": {},
     "output_type": "execute_result"
    }
   ],
   "source": [
    "a"
   ]
  },
  {
   "cell_type": "code",
   "execution_count": 118,
   "metadata": {},
   "outputs": [
    {
     "data": {
      "text/plain": [
       "array([[0, 1, 2, 3, 3, 2, 4, 0, 0, 0, 0, 0],\n",
       "       [1, 0, 1, 2, 2, 1, 3, 0, 0, 0, 0, 0],\n",
       "       [2, 1, 0, 1, 2, 2, 3, 0, 0, 0, 0, 0],\n",
       "       [3, 2, 1, 0, 1, 2, 2, 0, 0, 0, 0, 0],\n",
       "       [3, 2, 2, 1, 0, 1, 1, 0, 0, 0, 0, 0],\n",
       "       [2, 1, 2, 2, 1, 0, 2, 0, 0, 0, 0, 0],\n",
       "       [4, 3, 3, 2, 1, 2, 0, 0, 0, 0, 0, 0]])"
      ]
     },
     "execution_count": 118,
     "metadata": {},
     "output_type": "execute_result"
    }
   ],
   "source": [
    "base"
   ]
  },
  {
   "cell_type": "code",
   "execution_count": 120,
   "metadata": {},
   "outputs": [
    {
     "data": {
      "text/plain": [
       "82"
      ]
     },
     "execution_count": 120,
     "metadata": {},
     "output_type": "execute_result"
    }
   ],
   "source": [
    "base.sum()"
   ]
  },
  {
   "cell_type": "code",
   "execution_count": null,
   "metadata": {},
   "outputs": [],
   "source": []
  },
  {
   "cell_type": "code",
   "execution_count": null,
   "metadata": {},
   "outputs": [],
   "source": []
  }
 ],
 "metadata": {
  "kernelspec": {
   "display_name": "Python 3",
   "language": "python",
   "name": "python3"
  },
  "language_info": {
   "codemirror_mode": {
    "name": "ipython",
    "version": 3
   },
   "file_extension": ".py",
   "mimetype": "text/x-python",
   "name": "python",
   "nbconvert_exporter": "python",
   "pygments_lexer": "ipython3",
   "version": "3.7.6"
  }
 },
 "nbformat": 4,
 "nbformat_minor": 4
}
