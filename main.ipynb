{
 "cells": [
  {
   "cell_type": "code",
   "execution_count": 60,
   "metadata": {},
   "outputs": [],
   "source": [
    "import numpy as np "
   ]
  },
  {
   "cell_type": "code",
   "execution_count": 162,
   "metadata": {},
   "outputs": [],
   "source": [
    "base = np.array([[0, 1, 2, 3, 3, 3, 4],\n",
    "                 [1, 0, 1, 2, 2, 1, 3],\n",
    "                 [2, 1, 0, 1, 2, 2, 3],\n",
    "                 [3, 2, 1, 0, 1, 2, 2],\n",
    "                 [3, 2, 2, 1, 0, 1, 1],\n",
    "                 [2, 1, 2, 2, 1, 0, 2],\n",
    "                 [4, 3, 3, 2, 1, 2, 0]])"
   ]
  },
  {
   "cell_type": "code",
   "execution_count": 163,
   "metadata": {},
   "outputs": [],
   "source": [
    "completment = np.array([[0, 1, 2, 2, 3],\n",
    "                        [1, 0, 1, 2, 2],\n",
    "                        [2, 1, 0, 1, 1],\n",
    "                        [2, 2, 1, 0, 2],\n",
    "                        [3, 2, 1, 2 ,0]])"
   ]
  },
  {
   "cell_type": "code",
   "execution_count": 164,
   "metadata": {},
   "outputs": [
    {
     "data": {
      "text/plain": [
       "array([[0, 1, 2, 3, 3, 3, 4],\n",
       "       [1, 0, 1, 2, 2, 1, 3],\n",
       "       [2, 1, 0, 1, 2, 2, 3],\n",
       "       [3, 2, 1, 0, 1, 2, 2],\n",
       "       [3, 2, 2, 1, 0, 1, 1],\n",
       "       [2, 1, 2, 2, 1, 0, 2],\n",
       "       [4, 3, 3, 2, 1, 2, 0]])"
      ]
     },
     "execution_count": 164,
     "metadata": {},
     "output_type": "execute_result"
    }
   ],
   "source": [
    "base"
   ]
  },
  {
   "cell_type": "code",
   "execution_count": null,
   "metadata": {},
   "outputs": [],
   "source": []
  },
  {
   "cell_type": "code",
   "execution_count": 165,
   "metadata": {},
   "outputs": [
    {
     "data": {
      "text/plain": [
       "12"
      ]
     },
     "execution_count": 165,
     "metadata": {},
     "output_type": "execute_result"
    }
   ],
   "source": [
    "p = 2\n",
    "\n",
    "n = p * 5  +2 \n",
    "n"
   ]
  },
  {
   "cell_type": "code",
   "execution_count": 166,
   "metadata": {},
   "outputs": [
    {
     "data": {
      "text/plain": [
       "1"
      ]
     },
     "execution_count": 166,
     "metadata": {},
     "output_type": "execute_result"
    }
   ],
   "source": [
    "i = int((n-7) / 5)\n",
    "i"
   ]
  },
  {
   "cell_type": "code",
   "execution_count": 167,
   "metadata": {},
   "outputs": [],
   "source": [
    "new = base "
   ]
  },
  {
   "cell_type": "code",
   "execution_count": 168,
   "metadata": {},
   "outputs": [],
   "source": [
    "new = np.column_stack((new, base[:,6] +1))\n",
    "new = np.column_stack((new, base[:,6] +2))\n",
    "new = np.column_stack((new, base[:,6] +2))\n",
    "new = np.column_stack((new, base[:,6] +1))\n",
    "new = np.column_stack((new, base[:,6] +3))\n",
    "\n",
    "base = np.column_stack((base, np.array([0, 0, 0, 0, 0, 0, 0])))\n",
    "base = np.column_stack((base, np.array([0, 0, 0, 0, 0, 0, 0])))\n",
    "base = np.column_stack((base, np.array([0, 0, 0, 0, 0, 0, 0])))\n",
    "base = np.column_stack((base, np.array([0, 0, 0, 0, 0, 0, 0])))\n",
    "base = np.column_stack((base, np.array([0, 0, 0, 0, 0, 0, 0])))\n"
   ]
  },
  {
   "cell_type": "code",
   "execution_count": 169,
   "metadata": {},
   "outputs": [
    {
     "data": {
      "text/plain": [
       "array([[0, 1, 2, 3, 3, 3, 4, 5, 6, 6, 5, 7],\n",
       "       [1, 0, 1, 2, 2, 1, 3, 4, 5, 5, 4, 6],\n",
       "       [2, 1, 0, 1, 2, 2, 3, 4, 5, 5, 4, 6],\n",
       "       [3, 2, 1, 0, 1, 2, 2, 3, 4, 4, 3, 5],\n",
       "       [3, 2, 2, 1, 0, 1, 1, 2, 3, 3, 2, 4],\n",
       "       [2, 1, 2, 2, 1, 0, 2, 3, 4, 4, 3, 5],\n",
       "       [4, 3, 3, 2, 1, 2, 0, 1, 2, 2, 1, 3]])"
      ]
     },
     "execution_count": 169,
     "metadata": {},
     "output_type": "execute_result"
    }
   ],
   "source": [
    "new"
   ]
  },
  {
   "cell_type": "code",
   "execution_count": 170,
   "metadata": {},
   "outputs": [],
   "source": [
    "new = np.vstack((new, new[6,:] +1))\n",
    "new = np.vstack((new, new[6,:] +2))\n",
    "new = np.vstack((new, new[6,:] +2))\n",
    "new = np.vstack((new, new[6,:] +1))\n",
    "new = np.vstack((new, new[6,:] +3))"
   ]
  },
  {
   "cell_type": "code",
   "execution_count": 171,
   "metadata": {},
   "outputs": [
    {
     "data": {
      "text/plain": [
       "array([[0, 1, 2, 3, 3, 3, 4, 5, 6, 6, 5, 7],\n",
       "       [1, 0, 1, 2, 2, 1, 3, 4, 5, 5, 4, 6],\n",
       "       [2, 1, 0, 1, 2, 2, 3, 4, 5, 5, 4, 6],\n",
       "       [3, 2, 1, 0, 1, 2, 2, 3, 4, 4, 3, 5],\n",
       "       [3, 2, 2, 1, 0, 1, 1, 2, 3, 3, 2, 4],\n",
       "       [2, 1, 2, 2, 1, 0, 2, 3, 4, 4, 3, 5],\n",
       "       [4, 3, 3, 2, 1, 2, 0, 1, 2, 2, 1, 3],\n",
       "       [5, 4, 4, 3, 2, 3, 1, 2, 3, 3, 2, 4],\n",
       "       [6, 5, 5, 4, 3, 4, 2, 3, 4, 4, 3, 5],\n",
       "       [6, 5, 5, 4, 3, 4, 2, 3, 4, 4, 3, 5],\n",
       "       [5, 4, 4, 3, 2, 3, 1, 2, 3, 3, 2, 4],\n",
       "       [7, 6, 6, 5, 4, 5, 3, 4, 5, 5, 4, 6]])"
      ]
     },
     "execution_count": 171,
     "metadata": {},
     "output_type": "execute_result"
    }
   ],
   "source": [
    "new\n"
   ]
  },
  {
   "cell_type": "code",
   "execution_count": 174,
   "metadata": {},
   "outputs": [],
   "source": [
    "sh = new.shape[0]\n",
    "sh -= 1"
   ]
  },
  {
   "cell_type": "code",
   "execution_count": 180,
   "metadata": {},
   "outputs": [],
   "source": [
    "new[sh -4: , sh - 4:] =0"
   ]
  },
  {
   "cell_type": "code",
   "execution_count": 181,
   "metadata": {},
   "outputs": [
    {
     "data": {
      "text/plain": [
       "array([[0, 1, 2, 3, 3, 3, 4, 5, 6, 6, 5, 7],\n",
       "       [1, 0, 1, 2, 2, 1, 3, 4, 5, 5, 4, 6],\n",
       "       [2, 1, 0, 1, 2, 2, 3, 4, 5, 5, 4, 6],\n",
       "       [3, 2, 1, 0, 1, 2, 2, 3, 4, 4, 3, 5],\n",
       "       [3, 2, 2, 1, 0, 1, 1, 2, 3, 3, 2, 4],\n",
       "       [2, 1, 2, 2, 1, 0, 2, 3, 4, 4, 3, 5],\n",
       "       [4, 3, 3, 2, 1, 2, 0, 1, 2, 2, 1, 3],\n",
       "       [5, 4, 4, 3, 2, 3, 1, 0, 0, 0, 0, 0],\n",
       "       [6, 5, 5, 4, 3, 4, 2, 0, 0, 0, 0, 0],\n",
       "       [6, 5, 5, 4, 3, 4, 2, 0, 0, 0, 0, 0],\n",
       "       [5, 4, 4, 3, 2, 3, 1, 0, 0, 0, 0, 0],\n",
       "       [7, 6, 6, 5, 4, 5, 3, 0, 0, 0, 0, 0]])"
      ]
     },
     "execution_count": 181,
     "metadata": {},
     "output_type": "execute_result"
    }
   ],
   "source": [
    "new"
   ]
  },
  {
   "cell_type": "code",
   "execution_count": null,
   "metadata": {},
   "outputs": [],
   "source": []
  }
 ],
 "metadata": {
  "kernelspec": {
   "display_name": "Python 3",
   "language": "python",
   "name": "python3"
  },
  "language_info": {
   "codemirror_mode": {
    "name": "ipython",
    "version": 3
   },
   "file_extension": ".py",
   "mimetype": "text/x-python",
   "name": "python",
   "nbconvert_exporter": "python",
   "pygments_lexer": "ipython3",
   "version": "3.7.6"
  }
 },
 "nbformat": 4,
 "nbformat_minor": 4
}
