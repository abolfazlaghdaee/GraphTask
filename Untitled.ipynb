{
 "cells": [
  {
   "cell_type": "code",
   "execution_count": 15,
   "metadata": {},
   "outputs": [],
   "source": [
    "import numpy as np\n",
    "\n",
    "import matplotlib.pyplot as plt\n",
    "%matplotlib inline"
   ]
  },
  {
   "cell_type": "code",
   "execution_count": 16,
   "metadata": {},
   "outputs": [],
   "source": [
    "def WPolythiophene(p):\n",
    "    base = np.array([[0, 1, 2, 3, 3, 2, 4],\n",
    "                     [1, 0, 1, 2, 2, 1, 3],\n",
    "                     [2, 1, 0, 1, 2, 2, 3],\n",
    "                     [3, 2, 1, 0, 1, 2, 2],\n",
    "                     [3, 2, 2, 1, 0, 1, 1],\n",
    "                     [2, 1, 2, 2, 1, 0, 2],\n",
    "                     [4, 3, 3, 2, 1, 2, 0]])\n",
    "    \n",
    "    \n",
    "    complement = np.array([[0, 1, 2, 2, 3],\n",
    "                            [1, 0, 1, 2, 2],\n",
    "                            [2, 1, 0, 1, 1],\n",
    "                            [2, 2, 1, 0, 2],\n",
    "                            [3, 2, 1, 2 ,0]])\n",
    "    \n",
    "    \n",
    "    n= p*5 +2 #number of nodes \n",
    "\n",
    "    \n",
    "    j = int((n-7) / 5)  # calculate of number of repeats\n",
    "    \n",
    "    \n",
    "    new = base \n",
    "    for i in range(j):  \n",
    "        base = new\n",
    "        \n",
    "        \n",
    "         \n",
    "        \n",
    "        a = base.shape[0]\n",
    "        new = np.column_stack((new, base[:,a -1] +1)) # extend columns of new matrix\n",
    "        new = np.column_stack((new, base[:,a -1] +2))\n",
    "        new = np.column_stack((new, base[:,a -1] +2))\n",
    "        new = np.column_stack((new, base[:,a -1] +1))\n",
    "        new = np.column_stack((new, base[:,a -1] +3))\n",
    "        \n",
    "        \n",
    "\n",
    "        for k in range(5):\n",
    "            base = np.column_stack((base, np.zeros(a)))  #extend columns of base matrix\n",
    "\n",
    "\n",
    "\n",
    "        new = np.vstack((new, new[a-1,:] +1)) #extend row of new matrix\n",
    "        new = np.vstack((new, new[a-1,:] +2))\n",
    "        new = np.vstack((new, new[a-1,:] +2))\n",
    "        new = np.vstack((new, new[a-1,:] +1))\n",
    "        new = np.vstack((new, new[a-1,:] +3))\n",
    "\n",
    "        b = new.shape[0]  - 1   \n",
    "        new[b -4: , b - 4:] =0  \n",
    "        \n",
    "        \n",
    "\n",
    "\n",
    "        C_col= complement.shape[1]\n",
    "        \n",
    "        \n",
    "        # generate new compelement matrix by dimention of new matrix \n",
    "\n",
    "        for i in range(100): \n",
    "\n",
    "            if complement.shape[0] == new.shape[0] :\n",
    "                break\n",
    "            complement= np.insert(complement, 0, np.zeros(C_col), axis=0)\n",
    "\n",
    "\n",
    "\n",
    "        C_row = complement.shape[0]   \n",
    "\n",
    "        for i in range(100):\n",
    "\n",
    "            if complement.shape[1] == new.shape[1] :\n",
    "                 break\n",
    "            complement= np.insert(complement, 0, np.zeros(C_row), axis=1)\n",
    "            \n",
    "            \n",
    "        new = new + complement\n",
    "            \n",
    "            \n",
    "            \n",
    "\n",
    "\n",
    "\n",
    "\n",
    "        \n",
    "        \n",
    "    return new, new.sum()/2\n"
   ]
  },
  {
   "cell_type": "code",
   "execution_count": 17,
   "metadata": {},
   "outputs": [
    {
     "data": {
      "text/plain": [
       "(array([[0, 1, 2, 3, 3, 2, 4],\n",
       "        [1, 0, 1, 2, 2, 1, 3],\n",
       "        [2, 1, 0, 1, 2, 2, 3],\n",
       "        [3, 2, 1, 0, 1, 2, 2],\n",
       "        [3, 2, 2, 1, 0, 1, 1],\n",
       "        [2, 1, 2, 2, 1, 0, 2],\n",
       "        [4, 3, 3, 2, 1, 2, 0]]),\n",
       " 41.0)"
      ]
     },
     "execution_count": 17,
     "metadata": {},
     "output_type": "execute_result"
    }
   ],
   "source": [
    "WPolythiophene(1)"
   ]
  },
  {
   "cell_type": "code",
   "execution_count": 18,
   "metadata": {},
   "outputs": [
    {
     "data": {
      "text/plain": [
       "(array([[0, 1, 2, 3, 3, 2, 4, 5, 6, 6, 5, 7],\n",
       "        [1, 0, 1, 2, 2, 1, 3, 4, 5, 5, 4, 6],\n",
       "        [2, 1, 0, 1, 2, 2, 3, 4, 5, 5, 4, 6],\n",
       "        [3, 2, 1, 0, 1, 2, 2, 3, 4, 4, 3, 5],\n",
       "        [3, 2, 2, 1, 0, 1, 1, 2, 3, 3, 2, 4],\n",
       "        [2, 1, 2, 2, 1, 0, 2, 3, 4, 4, 3, 5],\n",
       "        [4, 3, 3, 2, 1, 2, 0, 1, 2, 2, 1, 3],\n",
       "        [5, 4, 4, 3, 2, 3, 1, 0, 1, 2, 2, 3],\n",
       "        [6, 5, 5, 4, 3, 4, 2, 1, 0, 1, 2, 2],\n",
       "        [6, 5, 5, 4, 3, 4, 2, 2, 1, 0, 1, 1],\n",
       "        [5, 4, 4, 3, 2, 3, 1, 2, 2, 1, 0, 2],\n",
       "        [7, 6, 6, 5, 4, 5, 3, 3, 2, 1, 2, 0]]),\n",
       " 196.0)"
      ]
     },
     "execution_count": 18,
     "metadata": {},
     "output_type": "execute_result"
    }
   ],
   "source": [
    "WPolythiophene(2)"
   ]
  },
  {
   "cell_type": "code",
   "execution_count": 19,
   "metadata": {},
   "outputs": [
    {
     "data": {
      "text/plain": [
       "(array([[ 0,  1,  2,  3,  3,  2,  4,  5,  6,  6,  5,  7,  8,  9,  9,  8,\n",
       "         10],\n",
       "        [ 1,  0,  1,  2,  2,  1,  3,  4,  5,  5,  4,  6,  7,  8,  8,  7,\n",
       "          9],\n",
       "        [ 2,  1,  0,  1,  2,  2,  3,  4,  5,  5,  4,  6,  7,  8,  8,  7,\n",
       "          9],\n",
       "        [ 3,  2,  1,  0,  1,  2,  2,  3,  4,  4,  3,  5,  6,  7,  7,  6,\n",
       "          8],\n",
       "        [ 3,  2,  2,  1,  0,  1,  1,  2,  3,  3,  2,  4,  5,  6,  6,  5,\n",
       "          7],\n",
       "        [ 2,  1,  2,  2,  1,  0,  2,  3,  4,  4,  3,  5,  6,  7,  7,  6,\n",
       "          8],\n",
       "        [ 4,  3,  3,  2,  1,  2,  0,  1,  2,  2,  1,  3,  4,  5,  5,  4,\n",
       "          6],\n",
       "        [ 5,  4,  4,  3,  2,  3,  1,  0,  1,  2,  2,  3,  4,  5,  5,  4,\n",
       "          6],\n",
       "        [ 6,  5,  5,  4,  3,  4,  2,  1,  0,  1,  2,  2,  3,  4,  4,  3,\n",
       "          5],\n",
       "        [ 6,  5,  5,  4,  3,  4,  2,  2,  1,  0,  1,  1,  2,  3,  3,  2,\n",
       "          4],\n",
       "        [ 5,  4,  4,  3,  2,  3,  1,  2,  2,  1,  0,  2,  3,  4,  4,  3,\n",
       "          5],\n",
       "        [ 7,  6,  6,  5,  4,  5,  3,  3,  2,  1,  2,  0,  1,  2,  2,  1,\n",
       "          3],\n",
       "        [ 8,  7,  7,  6,  5,  6,  4,  4,  3,  2,  3,  1,  0,  1,  2,  2,\n",
       "          3],\n",
       "        [ 9,  8,  8,  7,  6,  7,  5,  5,  4,  3,  4,  2,  1,  0,  1,  2,\n",
       "          2],\n",
       "        [ 9,  8,  8,  7,  6,  7,  5,  5,  4,  3,  4,  2,  2,  1,  0,  1,\n",
       "          1],\n",
       "        [ 8,  7,  7,  6,  5,  6,  4,  4,  3,  2,  3,  1,  2,  2,  1,  0,\n",
       "          2],\n",
       "        [10,  9,  9,  8,  7,  8,  6,  6,  5,  4,  5,  3,  3,  2,  1,  2,\n",
       "          0]]),\n",
       " 541.0)"
      ]
     },
     "execution_count": 19,
     "metadata": {},
     "output_type": "execute_result"
    }
   ],
   "source": [
    "WPolythiophene(3)"
   ]
  },
  {
   "cell_type": "code",
   "execution_count": 20,
   "metadata": {},
   "outputs": [
    {
     "data": {
      "text/plain": [
       "(array([[ 0,  1,  2,  3,  3,  2,  4,  5,  6,  6,  5,  7,  8,  9,  9,  8,\n",
       "         10, 11, 12, 12, 11, 13],\n",
       "        [ 1,  0,  1,  2,  2,  1,  3,  4,  5,  5,  4,  6,  7,  8,  8,  7,\n",
       "          9, 10, 11, 11, 10, 12],\n",
       "        [ 2,  1,  0,  1,  2,  2,  3,  4,  5,  5,  4,  6,  7,  8,  8,  7,\n",
       "          9, 10, 11, 11, 10, 12],\n",
       "        [ 3,  2,  1,  0,  1,  2,  2,  3,  4,  4,  3,  5,  6,  7,  7,  6,\n",
       "          8,  9, 10, 10,  9, 11],\n",
       "        [ 3,  2,  2,  1,  0,  1,  1,  2,  3,  3,  2,  4,  5,  6,  6,  5,\n",
       "          7,  8,  9,  9,  8, 10],\n",
       "        [ 2,  1,  2,  2,  1,  0,  2,  3,  4,  4,  3,  5,  6,  7,  7,  6,\n",
       "          8,  9, 10, 10,  9, 11],\n",
       "        [ 4,  3,  3,  2,  1,  2,  0,  1,  2,  2,  1,  3,  4,  5,  5,  4,\n",
       "          6,  7,  8,  8,  7,  9],\n",
       "        [ 5,  4,  4,  3,  2,  3,  1,  0,  1,  2,  2,  3,  4,  5,  5,  4,\n",
       "          6,  7,  8,  8,  7,  9],\n",
       "        [ 6,  5,  5,  4,  3,  4,  2,  1,  0,  1,  2,  2,  3,  4,  4,  3,\n",
       "          5,  6,  7,  7,  6,  8],\n",
       "        [ 6,  5,  5,  4,  3,  4,  2,  2,  1,  0,  1,  1,  2,  3,  3,  2,\n",
       "          4,  5,  6,  6,  5,  7],\n",
       "        [ 5,  4,  4,  3,  2,  3,  1,  2,  2,  1,  0,  2,  3,  4,  4,  3,\n",
       "          5,  6,  7,  7,  6,  8],\n",
       "        [ 7,  6,  6,  5,  4,  5,  3,  3,  2,  1,  2,  0,  1,  2,  2,  1,\n",
       "          3,  4,  5,  5,  4,  6],\n",
       "        [ 8,  7,  7,  6,  5,  6,  4,  4,  3,  2,  3,  1,  0,  1,  2,  2,\n",
       "          3,  4,  5,  5,  4,  6],\n",
       "        [ 9,  8,  8,  7,  6,  7,  5,  5,  4,  3,  4,  2,  1,  0,  1,  2,\n",
       "          2,  3,  4,  4,  3,  5],\n",
       "        [ 9,  8,  8,  7,  6,  7,  5,  5,  4,  3,  4,  2,  2,  1,  0,  1,\n",
       "          1,  2,  3,  3,  2,  4],\n",
       "        [ 8,  7,  7,  6,  5,  6,  4,  4,  3,  2,  3,  1,  2,  2,  1,  0,\n",
       "          2,  3,  4,  4,  3,  5],\n",
       "        [10,  9,  9,  8,  7,  8,  6,  6,  5,  4,  5,  3,  3,  2,  1,  2,\n",
       "          0,  1,  2,  2,  1,  3],\n",
       "        [11, 10, 10,  9,  8,  9,  7,  7,  6,  5,  6,  4,  4,  3,  2,  3,\n",
       "          1,  0,  1,  2,  2,  3],\n",
       "        [12, 11, 11, 10,  9, 10,  8,  8,  7,  6,  7,  5,  5,  4,  3,  4,\n",
       "          2,  1,  0,  1,  2,  2],\n",
       "        [12, 11, 11, 10,  9, 10,  8,  8,  7,  6,  7,  5,  5,  4,  3,  4,\n",
       "          2,  2,  1,  0,  1,  1],\n",
       "        [11, 10, 10,  9,  8,  9,  7,  7,  6,  5,  6,  4,  4,  3,  2,  3,\n",
       "          1,  2,  2,  1,  0,  2],\n",
       "        [13, 12, 12, 11, 10, 11,  9,  9,  8,  7,  8,  6,  6,  5,  4,  5,\n",
       "          3,  3,  2,  1,  2,  0]]),\n",
       " 1151.0)"
      ]
     },
     "execution_count": 20,
     "metadata": {},
     "output_type": "execute_result"
    }
   ],
   "source": [
    "WPolythiophene(4)"
   ]
  },
  {
   "cell_type": "code",
   "execution_count": 21,
   "metadata": {},
   "outputs": [
    {
     "data": {
      "text/plain": [
       "(array([[ 0,  1,  2,  3,  3,  2,  4,  5,  6,  6,  5,  7,  8,  9,  9,  8,\n",
       "         10, 11, 12, 12, 11, 13, 14, 15, 15, 14, 16],\n",
       "        [ 1,  0,  1,  2,  2,  1,  3,  4,  5,  5,  4,  6,  7,  8,  8,  7,\n",
       "          9, 10, 11, 11, 10, 12, 13, 14, 14, 13, 15],\n",
       "        [ 2,  1,  0,  1,  2,  2,  3,  4,  5,  5,  4,  6,  7,  8,  8,  7,\n",
       "          9, 10, 11, 11, 10, 12, 13, 14, 14, 13, 15],\n",
       "        [ 3,  2,  1,  0,  1,  2,  2,  3,  4,  4,  3,  5,  6,  7,  7,  6,\n",
       "          8,  9, 10, 10,  9, 11, 12, 13, 13, 12, 14],\n",
       "        [ 3,  2,  2,  1,  0,  1,  1,  2,  3,  3,  2,  4,  5,  6,  6,  5,\n",
       "          7,  8,  9,  9,  8, 10, 11, 12, 12, 11, 13],\n",
       "        [ 2,  1,  2,  2,  1,  0,  2,  3,  4,  4,  3,  5,  6,  7,  7,  6,\n",
       "          8,  9, 10, 10,  9, 11, 12, 13, 13, 12, 14],\n",
       "        [ 4,  3,  3,  2,  1,  2,  0,  1,  2,  2,  1,  3,  4,  5,  5,  4,\n",
       "          6,  7,  8,  8,  7,  9, 10, 11, 11, 10, 12],\n",
       "        [ 5,  4,  4,  3,  2,  3,  1,  0,  1,  2,  2,  3,  4,  5,  5,  4,\n",
       "          6,  7,  8,  8,  7,  9, 10, 11, 11, 10, 12],\n",
       "        [ 6,  5,  5,  4,  3,  4,  2,  1,  0,  1,  2,  2,  3,  4,  4,  3,\n",
       "          5,  6,  7,  7,  6,  8,  9, 10, 10,  9, 11],\n",
       "        [ 6,  5,  5,  4,  3,  4,  2,  2,  1,  0,  1,  1,  2,  3,  3,  2,\n",
       "          4,  5,  6,  6,  5,  7,  8,  9,  9,  8, 10],\n",
       "        [ 5,  4,  4,  3,  2,  3,  1,  2,  2,  1,  0,  2,  3,  4,  4,  3,\n",
       "          5,  6,  7,  7,  6,  8,  9, 10, 10,  9, 11],\n",
       "        [ 7,  6,  6,  5,  4,  5,  3,  3,  2,  1,  2,  0,  1,  2,  2,  1,\n",
       "          3,  4,  5,  5,  4,  6,  7,  8,  8,  7,  9],\n",
       "        [ 8,  7,  7,  6,  5,  6,  4,  4,  3,  2,  3,  1,  0,  1,  2,  2,\n",
       "          3,  4,  5,  5,  4,  6,  7,  8,  8,  7,  9],\n",
       "        [ 9,  8,  8,  7,  6,  7,  5,  5,  4,  3,  4,  2,  1,  0,  1,  2,\n",
       "          2,  3,  4,  4,  3,  5,  6,  7,  7,  6,  8],\n",
       "        [ 9,  8,  8,  7,  6,  7,  5,  5,  4,  3,  4,  2,  2,  1,  0,  1,\n",
       "          1,  2,  3,  3,  2,  4,  5,  6,  6,  5,  7],\n",
       "        [ 8,  7,  7,  6,  5,  6,  4,  4,  3,  2,  3,  1,  2,  2,  1,  0,\n",
       "          2,  3,  4,  4,  3,  5,  6,  7,  7,  6,  8],\n",
       "        [10,  9,  9,  8,  7,  8,  6,  6,  5,  4,  5,  3,  3,  2,  1,  2,\n",
       "          0,  1,  2,  2,  1,  3,  4,  5,  5,  4,  6],\n",
       "        [11, 10, 10,  9,  8,  9,  7,  7,  6,  5,  6,  4,  4,  3,  2,  3,\n",
       "          1,  0,  1,  2,  2,  3,  4,  5,  5,  4,  6],\n",
       "        [12, 11, 11, 10,  9, 10,  8,  8,  7,  6,  7,  5,  5,  4,  3,  4,\n",
       "          2,  1,  0,  1,  2,  2,  3,  4,  4,  3,  5],\n",
       "        [12, 11, 11, 10,  9, 10,  8,  8,  7,  6,  7,  5,  5,  4,  3,  4,\n",
       "          2,  2,  1,  0,  1,  1,  2,  3,  3,  2,  4],\n",
       "        [11, 10, 10,  9,  8,  9,  7,  7,  6,  5,  6,  4,  4,  3,  2,  3,\n",
       "          1,  2,  2,  1,  0,  2,  3,  4,  4,  3,  5],\n",
       "        [13, 12, 12, 11, 10, 11,  9,  9,  8,  7,  8,  6,  6,  5,  4,  5,\n",
       "          3,  3,  2,  1,  2,  0,  1,  2,  2,  1,  3],\n",
       "        [14, 13, 13, 12, 11, 12, 10, 10,  9,  8,  9,  7,  7,  6,  5,  6,\n",
       "          4,  4,  3,  2,  3,  1,  0,  1,  2,  2,  3],\n",
       "        [15, 14, 14, 13, 12, 13, 11, 11, 10,  9, 10,  8,  8,  7,  6,  7,\n",
       "          5,  5,  4,  3,  4,  2,  1,  0,  1,  2,  2],\n",
       "        [15, 14, 14, 13, 12, 13, 11, 11, 10,  9, 10,  8,  8,  7,  6,  7,\n",
       "          5,  5,  4,  3,  4,  2,  2,  1,  0,  1,  1],\n",
       "        [14, 13, 13, 12, 11, 12, 10, 10,  9,  8,  9,  7,  7,  6,  5,  6,\n",
       "          4,  4,  3,  2,  3,  1,  2,  2,  1,  0,  2],\n",
       "        [16, 15, 15, 14, 13, 14, 12, 12, 11, 10, 11,  9,  9,  8,  7,  8,\n",
       "          6,  6,  5,  4,  5,  3,  3,  2,  1,  2,  0]]),\n",
       " 2101.0)"
      ]
     },
     "execution_count": 21,
     "metadata": {},
     "output_type": "execute_result"
    }
   ],
   "source": [
    "WPolythiophene(5)"
   ]
  },
  {
   "cell_type": "code",
   "execution_count": 22,
   "metadata": {},
   "outputs": [],
   "source": [
    "X = [1,2,3,4,5, 6, 7, 8, 9, 10]\n",
    "Y= [WPolythiophene(1)[1], WPolythiophene(2)[1], WPolythiophene(3)[1], WPolythiophene(4)[1], WPolythiophene(5)[1], WPolythiophene(6)[1], WPolythiophene(7)[1], WPolythiophene(8)[1], WPolythiophene(9)[1], WPolythiophene(10)[1]]"
   ]
  },
  {
   "cell_type": "code",
   "execution_count": 23,
   "metadata": {},
   "outputs": [
    {
     "data": {
      "text/plain": [
       "[1, 2, 3, 4, 5, 6, 7, 8, 9, 10]"
      ]
     },
     "execution_count": 23,
     "metadata": {},
     "output_type": "execute_result"
    }
   ],
   "source": [
    "X"
   ]
  },
  {
   "cell_type": "code",
   "execution_count": 26,
   "metadata": {},
   "outputs": [
    {
     "data": {
      "text/plain": [
       "[41.0, 196.0, 541.0, 1151.0, 2101.0, 3466.0, 5321.0, 7741.0, 10801.0, 14576.0]"
      ]
     },
     "execution_count": 26,
     "metadata": {},
     "output_type": "execute_result"
    }
   ],
   "source": [
    "Y"
   ]
  },
  {
   "cell_type": "code",
   "execution_count": 27,
   "metadata": {},
   "outputs": [
    {
     "data": {
      "text/plain": [
       "[<matplotlib.lines.Line2D at 0x7f5c28393790>]"
      ]
     },
     "execution_count": 27,
     "metadata": {},
     "output_type": "execute_result"
    },
    {
     "data": {
      "image/png": "[encoded data removed]",
      "text/plain": [
       "<Figure size 640x480 with 1 Axes>"
      ]
     },
     "metadata": {},
     "output_type": "display_data"
    }
   ],
   "source": [
    "plt.ylabel('wiener')\n",
    "plt.xlabel('number of P')\n",
    "plt.plot(X,Y)"
   ]
  },
  {
   "cell_type": "code",
   "execution_count": 28,
   "metadata": {},
   "outputs": [],
   "source": [
    "x = [1, 2, 3, 4]\n",
    "y= [WPolythiophene(1)[1], WPolythiophene(2)[1], WPolythiophene(3)[1], WPolythiophene(4)[1]]"
   ]
  },
  {
   "cell_type": "code",
   "execution_count": 29,
   "metadata": {},
   "outputs": [
    {
     "data": {
      "text/plain": [
       "[<matplotlib.lines.Line2D at 0x7f5c28388c40>]"
      ]
     },
     "execution_count": 29,
     "metadata": {},
     "output_type": "execute_result"
    },
    {
     "data": {
      "image/png": "[encoded data removed]",
      "text/plain": [
       "<Figure size 640x480 with 1 Axes>"
      ]
     },
     "metadata": {},
     "output_type": "display_data"
    }
   ],
   "source": [
    "plt.plot(x,y)"
   ]
  },
  {
   "cell_type": "code",
   "execution_count": 36,
   "metadata": {},
   "outputs": [],
   "source": [
    "import numpy as np\n",
    "\n",
    "X = [1,2,3,4,5, 6, 7, 8, 9, 10 ]\n",
    "Y= [WPolythiophene(1)[1], WPolythiophene(2)[1], WPolythiophene(3)[1], WPolythiophene(4)[1], WPolythiophene(5)[1], WPolythiophene(6)[1], WPolythiophene(7)[1], WPolythiophene(8)[1], WPolythiophene(9)[1], WPolythiophene(10)[1]]\n",
    "\n",
    "coeffs = np.polyfit(X, Y, 3)\n",
    "\n",
    "# to predict y for a new value of x:\n"
   ]
  },
  {
   "cell_type": "code",
   "execution_count": 40,
   "metadata": {},
   "outputs": [],
   "source": [
    "x_new = [11, 12,13,19]\n",
    "y_new = np.polyval(coeffs, x_new)"
   ]
  },
  {
   "cell_type": "code",
   "execution_count": 41,
   "metadata": {},
   "outputs": [
    {
     "data": {
      "text/plain": [
       "array([19141., 24571., 30941., 93101.])"
      ]
     },
     "execution_count": 41,
     "metadata": {},
     "output_type": "execute_result"
    }
   ],
   "source": [
    "y_new"
   ]
  },
  {
   "cell_type": "code",
   "execution_count": 42,
   "metadata": {},
   "outputs": [
    {
     "data": {
      "text/plain": [
       "19141.0"
      ]
     },
     "execution_count": 42,
     "metadata": {},
     "output_type": "execute_result"
    }
   ],
   "source": [
    "WPolythiophene(11)[1]\n"
   ]
  },
  {
   "cell_type": "code",
   "execution_count": 45,
   "metadata": {},
   "outputs": [
    {
     "data": {
      "text/plain": [
       "93101.0"
      ]
     },
     "execution_count": 45,
     "metadata": {},
     "output_type": "execute_result"
    }
   ],
   "source": [
    "WPolythiophene(19)[1]"
   ]
  },
  {
   "cell_type": "code",
   "execution_count": 47,
   "metadata": {},
   "outputs": [
    {
     "data": {
      "text/plain": [
       "array([12.5, 20. ,  7.5,  1. ])"
      ]
     },
     "execution_count": 47,
     "metadata": {},
     "output_type": "execute_result"
    }
   ],
   "source": [
    "coeffs"
   ]
  },
  {
   "cell_type": "code",
   "execution_count": 49,
   "metadata": {},
   "outputs": [
    {
     "ename": "TypeError",
     "evalue": "unsupported operand type(s) for ** or pow(): 'list' and 'int'",
     "output_type": "error",
     "traceback": [
      "\u001b[0;31m---------------------------------------------------------------------------\u001b[0m",
      "\u001b[0;31mTypeError\u001b[0m                                 Traceback (most recent call last)",
      "\u001b[1;32m/mnt/d/GitHub/GraphTask/Untitled.ipynb Cell 20\u001b[0m in \u001b[0;36m<cell line: 1>\u001b[0;34m()\u001b[0m\n\u001b[0;32m----> <a href='vscode-notebook-cell://wsl%2Bubuntu-20.04/mnt/d/GitHub/GraphTask/Untitled.ipynb#X30sdnNjb2RlLXJlbW90ZQ%3D%3D?line=0'>1</a>\u001b[0m \u001b[39m12.5\u001b[39m\u001b[39m*\u001b[39m  x\u001b[39m*\u001b[39;49m\u001b[39m*\u001b[39;49m\u001b[39m3\u001b[39;49m \u001b[39m+\u001b[39m\u001b[39m20\u001b[39m \u001b[39m*\u001b[39mx\u001b[39m*\u001b[39m\u001b[39m*\u001b[39m\u001b[39m2\u001b[39m \u001b[39m+\u001b[39m \u001b[39m7.5\u001b[39m \u001b[39m*\u001b[39mx \u001b[39m+\u001b[39m \u001b[39m1\u001b[39m\n",
      "\u001b[0;31mTypeError\u001b[0m: unsupported operand type(s) for ** or pow(): 'list' and 'int'"
     ]
    }
   ],
   "source": [
    "12.5*  x**3 +20 *x**2 + 7.5 *x + 1"
   ]
  },
  {
   "cell_type": "code",
   "execution_count": 50,
   "metadata": {},
   "outputs": [],
   "source": [
    "def func(x):\n",
    "    return 12.5*  x**3 +20 *x**2 + 7.5 *x + 1"
   ]
  },
  {
   "cell_type": "code",
   "execution_count": 54,
   "metadata": {},
   "outputs": [
    {
     "data": {
      "text/plain": [
       "7741.0"
      ]
     },
     "execution_count": 54,
     "metadata": {},
     "output_type": "execute_result"
    }
   ],
   "source": [
    "func(8)"
   ]
  },
  {
   "cell_type": "code",
   "execution_count": 55,
   "metadata": {},
   "outputs": [
    {
     "data": {
      "text/plain": [
       "471241.0"
      ]
     },
     "execution_count": 55,
     "metadata": {},
     "output_type": "execute_result"
    }
   ],
   "source": [
    "func(33)"
   ]
  },
  {
   "cell_type": "code",
   "execution_count": 56,
   "metadata": {},
   "outputs": [
    {
     "data": {
      "text/plain": [
       "(array([[  0,   1,   2, ...,  99,  98, 100],\n",
       "        [  1,   0,   1, ...,  98,  97,  99],\n",
       "        [  2,   1,   0, ...,  98,  97,  99],\n",
       "        ...,\n",
       "        [ 99,  98,  98, ...,   0,   1,   1],\n",
       "        [ 98,  97,  97, ...,   1,   0,   2],\n",
       "        [100,  99,  99, ...,   1,   2,   0]]),\n",
       " 471241.0)"
      ]
     },
     "execution_count": 56,
     "metadata": {},
     "output_type": "execute_result"
    }
   ],
   "source": [
    "WPolythiophene(33)"
   ]
  },
  {
   "cell_type": "code",
   "execution_count": null,
   "metadata": {},
   "outputs": [],
   "source": []
  }
 ],
 "metadata": {
  "kernelspec": {
   "display_name": "Python 3",
   "language": "python",
   "name": "python3"
  },
  "language_info": {
   "codemirror_mode": {
    "name": "ipython",
    "version": 3
   },
   "file_extension": ".py",
   "mimetype": "text/x-python",
   "name": "python",
   "nbconvert_exporter": "python",
   "pygments_lexer": "ipython3",
   "version": "3.9.16"
  }
 },
 "nbformat": 4,
 "nbformat_minor": 4
}
