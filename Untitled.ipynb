{
 "cells": [
  {
   "cell_type": "code",
   "execution_count": null,
   "metadata": {},
   "outputs": [],
   "source": [
    "import numpy as np\n",
    "\n",
    "import matplotlib.pyplot as plt\n",
    "%matplotlib inline"
   ]
  },
  {
   "cell_type": "code",
   "execution_count": 2,
   "metadata": {},
   "outputs": [],
   "source": [
    "def WPolythiophene(p):\n",
    "    base = np.array([[0, 1, 2, 3, 3, 2, 4],\n",
    "                     [1, 0, 1, 2, 2, 1, 3],\n",
    "                     [2, 1, 0, 1, 2, 2, 3],\n",
    "                     [3, 2, 1, 0, 1, 2, 2],\n",
    "                     [3, 2, 2, 1, 0, 1, 1],\n",
    "                     [2, 1, 2, 2, 1, 0, 2],\n",
    "                     [4, 3, 3, 2, 1, 2, 0]])\n",
    "    \n",
    "    \n",
    "    complement = np.array([[0, 1, 2, 2, 3],\n",
    "                            [1, 0, 1, 2, 2],\n",
    "                            [2, 1, 0, 1, 1],\n",
    "                            [2, 2, 1, 0, 2],\n",
    "                            [3, 2, 1, 2 ,0]])\n",
    "    \n",
    "    \n",
    "    n= p*5 +2 #number of nodes \n",
    "\n",
    "    \n",
    "    j = int((n-7) / 5)  # calculate of number of repeats\n",
    "    \n",
    "    \n",
    "    new = base \n",
    "    for i in range(j):  \n",
    "        base = new\n",
    "        \n",
    "        \n",
    "         \n",
    "        \n",
    "        a = base.shape[0]\n",
    "        new = np.column_stack((new, base[:,a -1] +1)) # extend columns of new matrix\n",
    "        new = np.column_stack((new, base[:,a -1] +2))\n",
    "        new = np.column_stack((new, base[:,a -1] +2))\n",
    "        new = np.column_stack((new, base[:,a -1] +1))\n",
    "        new = np.column_stack((new, base[:,a -1] +3))\n",
    "        \n",
    "        \n",
    "\n",
    "        for k in range(5):\n",
    "            base = np.column_stack((base, np.zeros(a)))  #extend columns of base matrix\n",
    "\n",
    "\n",
    "\n",
    "        new = np.vstack((new, new[a-1,:] +1)) #extend row of new matrix\n",
    "        new = np.vstack((new, new[a-1,:] +2))\n",
    "        new = np.vstack((new, new[a-1,:] +2))\n",
    "        new = np.vstack((new, new[a-1,:] +1))\n",
    "        new = np.vstack((new, new[a-1,:] +3))\n",
    "\n",
    "        b = new.shape[0]  - 1   \n",
    "        new[b -4: , b - 4:] =0  \n",
    "        \n",
    "        \n",
    "\n",
    "\n",
    "        C_col= complement.shape[1]\n",
    "        \n",
    "        \n",
    "        # generate new compelement matrix by dimention of new matrix \n",
    "\n",
    "        for i in range(100): \n",
    "\n",
    "            if complement.shape[0] == new.shape[0] :\n",
    "                break\n",
    "            complement= np.insert(complement, 0, np.zeros(C_col), axis=0)\n",
    "\n",
    "\n",
    "\n",
    "        C_row = complement.shape[0]   \n",
    "\n",
    "        for i in range(100):\n",
    "\n",
    "            if complement.shape[1] == new.shape[1] :\n",
    "                 break\n",
    "            complement= np.insert(complement, 0, np.zeros(C_row), axis=1)\n",
    "            \n",
    "            \n",
    "        new = new + complement\n",
    "            \n",
    "            \n",
    "            \n",
    "\n",
    "\n",
    "\n",
    "\n",
    "        \n",
    "        \n",
    "    return new, new.sum()/2\n"
   ]
  },
  {
   "cell_type": "code",
   "execution_count": 11,
   "metadata": {},
   "outputs": [
    {
     "data": {
      "text/plain": [
       "[<matplotlib.lines.Line2D at 0x7fbb01b726a0>]"
      ]
     },
     "execution_count": 11,
     "metadata": {},
     "output_type": "execute_result"
    },
    {
     "data": {
      "image/png": "[encoded data removed]",
      "text/plain": [
       "<Figure size 640x480 with 1 Axes>"
      ]
     },
     "metadata": {},
     "output_type": "display_data"
    }
   ],
   "source": [
    "plt.ylabel('wiener')\n",
    "plt.xlabel('number of P')\n",
    "plt.plot(X,Y, marker='o', color='red')"
   ]
  },
  {
   "cell_type": "markdown",
   "metadata": {},
   "source": []
  },
  {
   "cell_type": "code",
   "execution_count": 12,
   "metadata": {},
   "outputs": [],
   "source": [
    "import numpy as np\n",
    "\n",
    "X = [1,2,3,4,5, 6, 7, 8, 9, 10 ]\n",
    "Y= [WPolythiophene(1)[1], WPolythiophene(2)[1], WPolythiophene(3)[1], WPolythiophene(4)[1], WPolythiophene(5)[1], WPolythiophene(6)[1], WPolythiophene(7)[1], WPolythiophene(8)[1], WPolythiophene(9)[1], WPolythiophene(10)[1]]\n",
    "\n",
    "coeffs = np.polyfit(X, Y, 3)\n"
   ]
  },
  {
   "cell_type": "code",
   "execution_count": 13,
   "metadata": {},
   "outputs": [],
   "source": [
    "x_new = [11, 12,13,19]\n",
    "y_new = np.polyval(coeffs, x_new)"
   ]
  },
  {
   "cell_type": "code",
   "execution_count": 14,
   "metadata": {},
   "outputs": [
    {
     "data": {
      "text/plain": [
       "array([19141., 24571., 30941., 93101.])"
      ]
     },
     "execution_count": 14,
     "metadata": {},
     "output_type": "execute_result"
    }
   ],
   "source": [
    "y_new"
   ]
  },
  {
   "cell_type": "code",
   "execution_count": 15,
   "metadata": {},
   "outputs": [
    {
     "data": {
      "text/plain": [
       "[19141.0, 24571.0, 30941.0, 93101.0]"
      ]
     },
     "execution_count": 15,
     "metadata": {},
     "output_type": "execute_result"
    }
   ],
   "source": [
    "[WPolythiophene(11)[1], WPolythiophene(12)[1], WPolythiophene(13)[1], WPolythiophene(19)[1]]\n"
   ]
  },
  {
   "cell_type": "code",
   "execution_count": 16,
   "metadata": {},
   "outputs": [
    {
     "data": {
      "text/plain": [
       "array([12.5, 20. ,  7.5,  1. ])"
      ]
     },
     "execution_count": 16,
     "metadata": {},
     "output_type": "execute_result"
    }
   ],
   "source": [
    "coeffs"
   ]
  },
  {
   "cell_type": "code",
   "execution_count": 17,
   "metadata": {},
   "outputs": [],
   "source": [
    "def func(x):\n",
    "    return 12.5*  x**3 +20 *x**2 + 7.5 *x + 1"
   ]
  },
  {
   "cell_type": "code",
   "execution_count": 18,
   "metadata": {},
   "outputs": [
    {
     "data": {
      "text/plain": [
       "[1151.0,\n",
       " 2101.0,\n",
       " 3466.0,\n",
       " 5321.0,\n",
       " 7741.0,\n",
       " 10801.0,\n",
       " 14576.0,\n",
       " 19141.0,\n",
       " 24571.0,\n",
       " 30941.0,\n",
       " 93101.0]"
      ]
     },
     "execution_count": 18,
     "metadata": {},
     "output_type": "execute_result"
    }
   ],
   "source": [
    "[func(4), func(5), func(6), func(7), func(8), func(9), func(10), func(11), func(12), func(13), func(19)]"
   ]
  },
  {
   "cell_type": "code",
   "execution_count": 19,
   "metadata": {},
   "outputs": [
    {
     "data": {
      "text/plain": [
       "[1151.0,\n",
       " 2101.0,\n",
       " 3466.0,\n",
       " 5321.0,\n",
       " 7741.0,\n",
       " 10801.0,\n",
       " 14576.0,\n",
       " 19141.0,\n",
       " 24571.0,\n",
       " 30941.0,\n",
       " 93101.0]"
      ]
     },
     "execution_count": 19,
     "metadata": {},
     "output_type": "execute_result"
    }
   ],
   "source": [
    "[WPolythiophene(4)[1], WPolythiophene(5)[1], WPolythiophene(6)[1], WPolythiophene(7)[1], WPolythiophene(8)[1], WPolythiophene(9)[1], WPolythiophene(10)[1], WPolythiophene(11)[1], WPolythiophene(12)[1], WPolythiophene(13)[1], WPolythiophene(19)[1]]"
   ]
  }
 ],
 "metadata": {
  "kernelspec": {
   "display_name": "Python 3 (ipykernel)",
   "language": "python",
   "name": "python3"
  },
  "language_info": {
   "codemirror_mode": {
    "name": "ipython",
    "version": 3
   },
   "file_extension": ".py",
   "mimetype": "text/x-python",
   "name": "python",
   "nbconvert_exporter": "python",
   "pygments_lexer": "ipython3",
   "version": "3.9.16"
  }
 },
 "nbformat": 4,
 "nbformat_minor": 4
}
